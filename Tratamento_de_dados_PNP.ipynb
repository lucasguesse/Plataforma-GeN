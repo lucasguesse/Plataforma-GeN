{
  "nbformat": 4,
  "nbformat_minor": 0,
  "metadata": {
    "kernelspec": {
      "display_name": "Python 3",
      "language": "python",
      "name": "python3"
    },
    "language_info": {
      "codemirror_mode": {
        "name": "ipython",
        "version": 3
      },
      "file_extension": ".py",
      "mimetype": "text/x-python",
      "name": "python",
      "nbconvert_exporter": "python",
      "pygments_lexer": "ipython3",
      "version": "3.7.4"
    },
    "colab": {
      "name": "Tratamento de dados - PNP.ipynb",
      "provenance": [],
      "include_colab_link": true
    }
  },
  "cells": [
    {
      "cell_type": "markdown",
      "metadata": {
        "id": "view-in-github",
        "colab_type": "text"
      },
      "source": [
        "<a href=\"https://colab.research.google.com/github/lucasguesse/Plataforma-GeN/blob/master/Tratamento_de_dados_PNP.ipynb\" target=\"_parent\"><img src=\"https://colab.research.google.com/assets/colab-badge.svg\" alt=\"Open In Colab\"/></a>"
      ]
    },
    {
      "cell_type": "markdown",
      "metadata": {
        "id": "zEL6oFfXwgTm",
        "colab_type": "text"
      },
      "source": [
        "# Plataforma Nilo Peçanha\n",
        "Codigo para limpeza e consolidação dos dados conforme metodologia da SETEC"
      ]
    },
    {
      "cell_type": "code",
      "metadata": {
        "id": "n5QxsMPNwgTp",
        "colab_type": "code",
        "colab": {}
      },
      "source": [
        "# Importando Bibliotecas\n",
        "\n",
        "import pandas as pd\n",
        "import numpy as np\n",
        "import datetime as dt\n"
      ],
      "execution_count": null,
      "outputs": []
    },
    {
      "cell_type": "markdown",
      "metadata": {
        "id": "ZgxRIUbQyaIz",
        "colab_type": "text"
      },
      "source": [
        "# Extração dos Dados\n",
        "Carregando dados da Plataforma Nilo Peçanha (download feito manualmente) para algoritmo"
      ]
    },
    {
      "cell_type": "code",
      "metadata": {
        "id": "MKuzPi_BwgTx",
        "colab_type": "code",
        "colab": {}
      },
      "source": [
        "# Carregando dados\n",
        "df_efi_academica_2018= pd.read_csv('microdados-eficiencia-academica 2018.csv', sep=';')\n",
        "df_financeiro_2018 = pd.read_csv('microdados-financeiros 2018.csv',encoding='latin-1', sep=';')\n",
        "df_matriculas_2018 = pd.read_csv('microdados-matriculas 2018.csv',encoding='latin-1', sep=';')\n",
        "df_servidores_2018 = pd.read_csv('microdados-servidores 2018.csv',encoding='latin-1', sep=';')\n",
        "\n",
        "df_efi_academica_2019= pd.read_csv('microdados-eficiencia-academica 2019.csv', encoding='latin-1', sep=';')\n",
        "df_financeiro_2019 = pd.read_csv('microdados-financeiro 2019.csv', encoding='latin-1', sep=';')\n",
        "df_matriculas_2019 = pd.read_csv('microdados-matriculas 2019.csv', encoding='latin-1', sep=';')\n",
        "df_servidores_2019 = pd.read_csv('microdados-servidores 2019.csv', encoding='latin-1', sep=';')\n",
        "\n",
        "#df_efi_academica_2020= pd.read_csv('microdados-eficiencia-academica 2020.csv', encoding='latin-1', sep=';')\n",
        "#df_financeiro_2020 = pd.read_csv('microdados-financeiro 2020.csv', encoding='latin-1', sep=';')\n",
        "#df_matriculas_2020 = pd.read_csv('\\microdados-matriculas 2020.csv', encoding='latin-1', sep=';')\n",
        "#df_servidores_2020 = pd.read_csv('microdados-servidores 2020.csv', encoding='latin-1', sep=';')"
      ],
      "execution_count": null,
      "outputs": []
    },
    {
      "cell_type": "markdown",
      "metadata": {
        "id": "axhqen5iywFX",
        "colab_type": "text"
      },
      "source": [
        "# Nova seção"
      ]
    },
    {
      "cell_type": "code",
      "metadata": {
        "id": "g1ops7lywgT4",
        "colab_type": "code",
        "colab": {}
      },
      "source": [
        "df_efi_academica_2018['Ano'] = pd.to_datetime(2017, format='%Y')\n",
        "df_efi_academica_2019['Ano'] = pd.to_datetime(2018, format='%Y')\n",
        "#df_efi_academica_2020['Ano'] = pd.to_datetime(2019, format='%Y')\n",
        "\n",
        "df_financeiro_2018['Ano'] = pd.to_datetime(2017, format='%Y')\n",
        "df_financeiro_2019['Ano'] = pd.to_datetime(2018, format='%Y')\n",
        "#df_financeiro_2020['Ano'] = pd.to_datetime(2019, format='%Y')\n",
        "\n",
        "df_matriculas_2018['Ano'] = pd.to_datetime(2017, format='%Y')\n",
        "df_matriculas_2019['Ano'] = pd.to_datetime(2018, format='%Y')\n",
        "#df_matriculas_2020['Ano'] = pd.to_datetime(2019, format='%Y')\n",
        "\n",
        "df_servidores_2018['Ano'] = pd.to_datetime(2017, format='%Y')\n",
        "df_servidores_2019['Ano'] = pd.to_datetime(2018, format='%Y')\n",
        "#df_servidores_2020['Ano'] = pd.to_datetime(2019, format='%Y')"
      ],
      "execution_count": null,
      "outputs": []
    },
    {
      "cell_type": "code",
      "metadata": {
        "id": "pb9jdihzwgUB",
        "colab_type": "code",
        "colab": {}
      },
      "source": [
        ""
      ],
      "execution_count": null,
      "outputs": []
    },
    {
      "cell_type": "code",
      "metadata": {
        "id": "GycDuvbxwgUI",
        "colab_type": "code",
        "colab": {}
      },
      "source": [
        "df_efi_academica_2018.rename({'Carga Horaria':'Carga Horária do Curso', \n",
        "                                'Carga Horaria Minima':'Carga Horária Mínima Regulamentada',\n",
        "                                'Co Matricula':'Código da Matrícula', \n",
        "                                'Dt Data Fim Previsto':'Data de Fim Previsto do Ciclo',\n",
        "                                'Dt Data Inicio':'Data de Início do Ciclo',\n",
        "                                'Dt Ocorrencia Matricula':'Data de Ocorrência da Matrícula', \n",
        "                                'Fator Esforco Curso':'Fator de Esforço de Curso', \n",
        "                                'Nome Curso':'Nome do Curso', \n",
        "                                'Modalidade Ensino':'Modalidade de Ensino',\n",
        "                                'Mes De Ocorrencia':'Mês de Ocorrência da Situação',\n",
        "                                'Eixo Tecnologico':'Eixo Tecnológico',\n",
        "                                'Programa Associado':'Fonte de Financiamento', \n",
        "                                'Sg Inst':'Instituição',\n",
        "                                'Sg Sexo':'Sexo',\n",
        "                                'Situa__O_Matricula':'Situação da Matrícula', \n",
        "                                'Sub Eixo Tecnologico':'Subeixo Tecnológico',\n",
        "                                'Tipo Curso':'Tipo de Curso',\n",
        "                                'Tipo Oferta':'Tipo de Oferta',\n",
        "                                'Total Inscritos':'Total de Inscritos', \n",
        "                                'Unidade Ensino':'Unidade de Ensino'}, axis='columns', inplace=True)"
      ],
      "execution_count": null,
      "outputs": []
    },
    {
      "cell_type": "code",
      "metadata": {
        "id": "fuOKmqX7wgUS",
        "colab_type": "code",
        "colab": {}
      },
      "source": [
        "df_financeiro_2018.rename({'UO':'Unidade Orçamentária',\n",
        "                           'Ação':'Ação Governo',\n",
        "                           'GND':'Grupo de Natureza de Despesa',\n",
        "                           'Restos a Pagar Não-Processados Pagos':'Restos a Pagar Não Processados Liquidados '},\n",
        "                            axis='columns', inplace=True)"
      ],
      "execution_count": null,
      "outputs": []
    },
    {
      "cell_type": "code",
      "metadata": {
        "id": "BapJwa6EwgUZ",
        "colab_type": "code",
        "colab": {}
      },
      "source": [
        "df_matriculas_2018.rename({'Carga Horaria':'Carga Horária do Curso',\n",
        "                           'Carga Horaria Minima':'Carga Horária Mínima Regulamentada',\n",
        "                           'Co Ciclo Matricula':'Código do Ciclo Matrícula',\n",
        "                           'Co Matricula':'Código da Matrícula', 'Cor Raca':'Cor / Raça', \n",
        "                           'Dt Data Fim Previsto':'Data de Fim Previsto do Ciclo',\n",
        "                           'Dt Data Inicio':'Data de Início do Ciclo',\n",
        "                           'Dt Ocorrencia Matricula':'Data de Ocorrência da Matrícula',\n",
        "                           'Eixo Tecnologico':'Eixo Tecnológico',\n",
        "                           'Fator Esforco Curso':'Fator de Esforço de Curso',\n",
        "                           'Fonte de financiamento':'Fonte de Financiamento',\n",
        "                           'Modalidade Ensino':'Modalidade de Ensino', \n",
        "                           'Nome Curso':'Nome do Curso',\n",
        "                           'Sg Inst':'Instituição',\n",
        "                           'Sg Sexo':'Sexo',\n",
        "                           'Situa__O_Matricula':'Situação da Matrícula', \n",
        "                           'Sub Eixo Tecnologico':'Subeixo Tecnológico', \n",
        "                           'Total Inscritos':'Total de Inscritos', \n",
        "                           'Tipo Curso':'Tipo de Curso',\n",
        "                           'Tipo Oferta':'Tipo de Oferta',\n",
        "                           'Total Inscritos':'Total de Inscritos',\n",
        "                           'Unidade Ensino':'Unidade de Ensino'}, axis='columns', inplace=True)\n",
        "\n",
        "df_matriculas_2019.rename({'Modalidade Ensino ':'Modalidade de Ensino',\n",
        "                          'Situação da Matrícula ':'Situação da Matrícula',\n",
        "                          'Renda Familiar ':'Renda Familiar',\n",
        "                          'Modalidade de Ensino ':'Modalidade de Ensino',\n",
        "                          'Sexo  ':'Sexo'},axis='columns', inplace=True)\n",
        "\n",
        "#df_matriculas_2020.rename({'Modalidade Ensino ':'Modalidade de Ensino',\n",
        " #                         'Situação da Matrícula ':'Situação da Matrícula',\n",
        "  #                        'Renda Familiar ':'Renda Familiar',\n",
        "   #                       'Modalidade de Ensino ':'Modalidade de Ensino',\n",
        "    #                      'Sexo  ':'Sexo'},axis='columns', inplace=True)"
      ],
      "execution_count": null,
      "outputs": []
    },
    {
      "cell_type": "code",
      "metadata": {
        "id": "7Oux5mtAwgUm",
        "colab_type": "code",
        "colab": {}
      },
      "source": [
        "df_servidores_2018.rename({'Sg Instituto':'Instituição',\n",
        "                          'Nome Unidade':'Unidade de Lotação',\n",
        "                          'Cod Unidade':'Código da Unidade de Ensino - SISTEC',\n",
        "                          'Formacao Servidor':'Titulação',\n",
        "                          'Rsc Servidor':'RSC',\n",
        "                          'Vinculo Contrato':'Vínculo com a administração pública',\n",
        "                          'Vinculo Carreira':'Vínculo da Carreira',\n",
        "                          'Vinculo Classe':'Nível da Carreira'}, axis='columns', inplace=True)"
      ],
      "execution_count": null,
      "outputs": []
    },
    {
      "cell_type": "code",
      "metadata": {
        "id": "ZRH6vp9PwgUt",
        "colab_type": "code",
        "colab": {},
        "outputId": "f152b6a9-7e04-4e59-eeca-4867d0aeed09"
      },
      "source": [
        "df_efi_academica_2018['Categoria da Situação']=\"\"\n",
        "\n",
        "for i in range(len(df_efi_academica_2018)):\n",
        "    if (df_efi_academica_2018['Situação da Matrícula'][i]==\"CONCLUÍDA\" \n",
        "            or df_efi_academica_2018['Situação da Matrícula'][i]==\"INTEGRALIZADA\"):\n",
        "        df_efi_academica_2018['Categoria da Situação'][i] = \"Conclusão\"\n",
        "    elif df_efi_academica_2018['Situação da Matrícula'][i]==\"EM CURSO\":\n",
        "        df_efi_academica_2018['Categoria da Situação'][i] = \"Retidos\"\n",
        "    else:\n",
        "        df_efi_academica_2018['Categoria da Situação'][i] = \"Evasão\"\n",
        "    "
      ],
      "execution_count": null,
      "outputs": [
        {
          "output_type": "stream",
          "text": [
            "C:\\ProgramData\\Anaconda3\\lib\\site-packages\\ipykernel_launcher.py:10: SettingWithCopyWarning: \n",
            "A value is trying to be set on a copy of a slice from a DataFrame\n",
            "\n",
            "See the caveats in the documentation: http://pandas.pydata.org/pandas-docs/stable/user_guide/indexing.html#returning-a-view-versus-a-copy\n",
            "  # Remove the CWD from sys.path while we load stuff.\n",
            "C:\\ProgramData\\Anaconda3\\lib\\site-packages\\ipykernel_launcher.py:6: SettingWithCopyWarning: \n",
            "A value is trying to be set on a copy of a slice from a DataFrame\n",
            "\n",
            "See the caveats in the documentation: http://pandas.pydata.org/pandas-docs/stable/user_guide/indexing.html#returning-a-view-versus-a-copy\n",
            "  \n"
          ],
          "name": "stderr"
        }
      ]
    },
    {
      "cell_type": "markdown",
      "metadata": {
        "id": "3UUFYKSCwgU1",
        "colab_type": "text"
      },
      "source": [
        ""
      ]
    },
    {
      "cell_type": "code",
      "metadata": {
        "id": "Hc9F0rOpwgU2",
        "colab_type": "code",
        "colab": {}
      },
      "source": [
        "df_efi_academica_2018['Eixo Tecnológico'] = df_efi_academica_2018['Eixo Tecnológico'].str.upper()\n",
        "df_efi_academica_2019['Eixo Tecnológico'] = df_efi_academica_2019['Eixo Tecnológico'].str.upper()\n",
        "#df_efi_academica_2020['Eixo Tecnológico'] = df_efi_academica_2020['Eixo Tecnológico'].str.upper()\n",
        "\n",
        "df_efi_academica_2018['Subeixo Tecnológico'] = df_efi_academica_2018['Subeixo Tecnológico'].str.upper()\n",
        "df_efi_academica_2019['Subeixo Tecnológico'] = df_efi_academica_2019['Subeixo Tecnológico'].str.upper()\n",
        "#df_efi_academica_2020['Subeixo Tecnológico'] = df_efi_academica_2020['Subeixo Tecnológico'].str.upper()\n",
        "\n",
        "df_efi_academica_2018['Nome do Curso'] = df_efi_academica_2018['Nome do Curso'].str.upper()\n",
        "df_efi_academica_2019['Nome do Curso'] = df_efi_academica_2019['Nome do Curso'].str.upper()\n",
        "#df_efi_academica_2020['Nome do Curso'] = df_efi_academica_2020['Nome do Curso'].str.upper()\n",
        "\n",
        "\n",
        "df_matriculas_2018['Eixo Tecnológico'] = df_matriculas_2018['Eixo Tecnológico'].str.upper()\n",
        "df_matriculas_2019['Eixo Tecnológico'] = df_matriculas_2019['Eixo Tecnológico'].str.upper()\n",
        "#df_matriculas_2020['Eixo Tecnológico'] = df_matriculas_2020['Eixo Tecnológico'].str.upper()\n",
        "\n",
        "df_matriculas_2018['Nome do Curso'] = df_matriculas_2018['Nome do Curso'].str.upper()\n",
        "df_matriculas_2019['Nome do Curso'] = df_matriculas_2019['Nome do Curso'].str.upper()\n",
        "#df_matriculas_2020['Nome do Curso'] = df_matriculas_2020['Nome do Curso'].str.upper()\n",
        "\n",
        "df_matriculas_2018['Subeixo Tecnológico'] = df_matriculas_2018['Subeixo Tecnológico'].str.upper()\n",
        "df_matriculas_2019['Subeixo Tecnológico'] = df_matriculas_2019['Subeixo Tecnológico'].str.upper()\n",
        "#df_matriculas_2020['Subeixo Tecnológico'] = df_matriculas_2020['Subeixo Tecnológico'].str.upper()"
      ],
      "execution_count": null,
      "outputs": []
    },
    {
      "cell_type": "code",
      "metadata": {
        "id": "S3iAeFZKwgU9",
        "colab_type": "code",
        "colab": {}
      },
      "source": [
        "df_efi_academica_2018['Cod_uni'] = df_efi_academica_2018['Instituição']+\"/\"+df_efi_academica_2018['Unidade de Ensino']\n",
        "df_efi_academica_2019['Cod_uni'] = df_efi_academica_2019['Instituição']+\"/\"+df_efi_academica_2019['Unidade de Ensino']\n",
        "#df_efi_academica_2020['Cod_uni'] = df_efi_academica_2020['Instituição']+\"/\"+df_efi_academica_2020['Unidade de Ensino']\n",
        "\n",
        "df_matriculas_2018['Cod_uni'] = df_matriculas_2018['Instituição']+\"/\"+df_matriculas_2018['Unidade de Ensino']\n",
        "df_matriculas_2019['Cod_uni'] = df_matriculas_2019['Instituição']+\"/\"+df_matriculas_2019['Unidade de Ensino']\n",
        "#df_matriculas_2020['Cod_uni'] = df_matriculas_2020['Instituição']+\"/\"+df_matriculas_2020['Unidade de Ensino']\n",
        "\n",
        "df_servidores_2018['Cod_uni'] = df_servidores_2018['Instituição']+\"/\"+df_servidores_2018['Unidade de Lotação']\n",
        "df_servidores_2019['Cod_uni'] = df_servidores_2019['Instituição']+\"/\"+df_servidores_2019['Unidade de Lotação']\n",
        "#df_servidores_2020['Cod_uni'] = df_servidores_2020['Instituição']+\"/\"+df_servidores_2020['Unidade de Lotação']\n",
        "\n"
      ],
      "execution_count": null,
      "outputs": []
    },
    {
      "cell_type": "code",
      "metadata": {
        "id": "uvRh_RnVwgVF",
        "colab_type": "code",
        "colab": {}
      },
      "source": [
        "df_efi_academica_2018.to_csv('efi_academica_2018.csv', encoding='utf-8',sep=';')\n",
        "df_efi_academica_2019.to_csv('efi_academica_2019.csv', encoding='utf-8',sep=';')\n",
        "#df_efi_academica_2020.to_csv('efi_academica_2019.csv', encoding='utf-8',sep=';')\n",
        "\n",
        "df_financeiro_2018.to_csv('financeiro_2018.csv', encoding='utf-8',sep=';')\n",
        "df_financeiro_2019.to_csv('financeiro_2019.csv', encoding='utf-8',sep=';')\n",
        "#df_financeiro_2020.to_csv('financeiro_2020.csv', encoding='utf-8',sep=';')\n",
        "\n",
        "df_matriculas_2018.to_csv('matriculas_2018.csv', encoding='utf-8',sep=';')\n",
        "df_matriculas_2019.to_csv('matriculas_2019.csv', encoding='utf-8',sep=';')\n",
        "#df_matriculas_2020.to_csv('matriculas_2020.csv', encoding='utf-8',sep=';')\n",
        "\n",
        "df_servidores_2018.to_csv('servidores_2018.csv', encoding='utf-8',sep=';')\n",
        "df_servidores_2019.to_csv('servidores_2019.csv', encoding='utf-8',sep=';')\n",
        "#df_servidores_2020.to_csv('servidores_2020.csv', encoding='utf-8',sep=';')"
      ],
      "execution_count": null,
      "outputs": []
    },
    {
      "cell_type": "code",
      "metadata": {
        "id": "d7np1RDewgVL",
        "colab_type": "code",
        "colab": {}
      },
      "source": [
        "df_efi_academica = df_efi_academica_2019.merge(df_efi_academica_2018, how='outer')\n",
        "#df_efi_academica = df_efi_academica.merge(df_efi_academica_2020, how='outer')\n",
        "\n",
        "df_servidores = df_servidores_2019.merge(df_servidores_2018, how='outer')\n",
        "#df_servidores = df_servidores.merge(df_servidores_2020, how='outer')\n",
        "\n",
        "df_matriculas = df_matriculas_2019.merge(df_matriculas_2018, how='outer')\n",
        "#df_matriculas = df_matriculas.merge(df_matriculas_2020, how='outer')"
      ],
      "execution_count": null,
      "outputs": []
    },
    {
      "cell_type": "code",
      "metadata": {
        "id": "NLSmrBanwgVR",
        "colab_type": "code",
        "colab": {}
      },
      "source": [
        "df_efi_academica.to_csv('efi_academica1.csv', encoding='utf-8',sep=';')\n",
        "\n",
        "df_matriculas.to_csv('matriculas1.csv', encoding='utf-8',sep=';')\n",
        "\n",
        "df_servidores.to_csv('servidores1.csv', encoding='utf-8',sep=';')"
      ],
      "execution_count": null,
      "outputs": []
    },
    {
      "cell_type": "code",
      "metadata": {
        "id": "aaa5NppmwgVW",
        "colab_type": "code",
        "colab": {},
        "outputId": "f0ec6161-6b63-40dc-fe13-6efdf05f4887"
      },
      "source": [
        "df_efi_academica.info()"
      ],
      "execution_count": null,
      "outputs": [
        {
          "output_type": "stream",
          "text": [
            "<class 'pandas.core.frame.DataFrame'>\n",
            "Int64Index: 682140 entries, 0 to 682139\n",
            "Data columns (total 33 columns):\n",
            "Sexo                                    682140 non-null object\n",
            "Código da Matrícula                     682140 non-null int64\n",
            "Data de Ocorrência da Matrícula         682140 non-null object\n",
            "Situação da Matrícula                   682140 non-null object\n",
            "Categoria da Situação                   682140 non-null object\n",
            "Mês de Ocorrência da Situação           682114 non-null object\n",
            "Data de Início do Ciclo                 682140 non-null object\n",
            "Data de Fim Previsto do Ciclo           682140 non-null object\n",
            "Vagas Ofertadas                         550045 non-null float64\n",
            "Total de Inscritos                      682140 non-null int64\n",
            "Fonte de Financiamento                  682140 non-null object\n",
            "Carga Horária do Curso                  682140 non-null int64\n",
            "Carga Horária Mínima Regulamentada      645703 non-null float64\n",
            "Eixo Tecnológico                        682140 non-null object\n",
            "Subeixo Tecnológico                     645703 non-null object\n",
            "Modalidade de Ensino                    682140 non-null object\n",
            "Tipo de Curso                           682140 non-null object\n",
            "Tipo de Oferta                          682140 non-null object\n",
            "Nome do Curso                           682140 non-null object\n",
            "Fator de Esforço de Curso               645703 non-null object\n",
            "Código da Unidade de Ensino - SISTEC    374037 non-null float64\n",
            "Unidade de Ensino                       682140 non-null object\n",
            "Código do Município com DV              374037 non-null float64\n",
            "Município                               374037 non-null object\n",
            "Instituição                             682140 non-null object\n",
            "UF                                      374037 non-null object\n",
            "Microrregião                            374037 non-null object\n",
            "Mesorregião                             374037 non-null object\n",
            "Região                                  374037 non-null object\n",
            "Ano                                     682140 non-null datetime64[ns]\n",
            "Cod_uni                                 682140 non-null object\n",
            "Número de registros                     308103 non-null float64\n",
            "Duracao Minima Em Anos                  273268 non-null float64\n",
            "dtypes: datetime64[ns](1), float64(6), int64(3), object(23)\n",
            "memory usage: 176.9+ MB\n"
          ],
          "name": "stdout"
        }
      ]
    },
    {
      "cell_type": "code",
      "metadata": {
        "id": "WxdncdgNwgVg",
        "colab_type": "code",
        "colab": {}
      },
      "source": [
        ""
      ],
      "execution_count": null,
      "outputs": []
    },
    {
      "cell_type": "code",
      "metadata": {
        "id": "5oqh70qIwgVm",
        "colab_type": "code",
        "colab": {}
      },
      "source": [
        ""
      ],
      "execution_count": null,
      "outputs": []
    },
    {
      "cell_type": "code",
      "metadata": {
        "id": "3dy9mSSowgVs",
        "colab_type": "code",
        "colab": {}
      },
      "source": [
        ""
      ],
      "execution_count": null,
      "outputs": []
    },
    {
      "cell_type": "code",
      "metadata": {
        "id": "BEZxsDuPwgVz",
        "colab_type": "code",
        "colab": {}
      },
      "source": [
        ""
      ],
      "execution_count": null,
      "outputs": []
    }
  ]
}